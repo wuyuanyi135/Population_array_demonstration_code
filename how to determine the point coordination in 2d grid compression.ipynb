{
 "cells": [
  {
   "cell_type": "code",
   "execution_count": 1,
   "id": "hindu-washer",
   "metadata": {},
   "outputs": [],
   "source": [
    "import numpy as np\n",
    "from matplotlib import pyplot as plt"
   ]
  },
  {
   "cell_type": "code",
   "execution_count": 8,
   "id": "tough-waste",
   "metadata": {
    "scrolled": true
   },
   "outputs": [
    {
     "data": {
      "text/plain": [
       "<matplotlib.collections.PathCollection at 0x18076b8e880>"
      ]
     },
     "execution_count": 8,
     "metadata": {},
     "output_type": "execute_result"
    },
    {
     "data": {
      "image/png": "[encoded data removed]",
      "text/plain": [
       "<Figure size 432x288 with 1 Axes>"
      ]
     },
     "metadata": {
      "needs_background": "light"
     },
     "output_type": "display_data"
    }
   ],
   "source": [
    "# Assume in the 2D grid we have N points\n",
    "N = 10\n",
    "P = np.random.random((N, 2))\n",
    "\n",
    "plt.scatter(P[:, 0], P[:, 1], c='b')"
   ]
  },
  {
   "cell_type": "markdown",
   "id": "electrical-investor",
   "metadata": {},
   "source": [
    "# Case 1: arithmetic mean value of all dimensions\n",
    "This does not guarantee the volume conservation"
   ]
  },
  {
   "cell_type": "code",
   "execution_count": 6,
   "id": "spatial-female",
   "metadata": {},
   "outputs": [
    {
     "data": {
      "text/plain": [
       "<matplotlib.collections.PathCollection at 0x18076ae8250>"
      ]
     },
     "execution_count": 6,
     "metadata": {},
     "output_type": "execute_result"
    },
    {
     "data": {
      "image/png": "[encoded data removed]",
      "text/plain": [
       "<Figure size 432x288 with 1 Axes>"
      ]
     },
     "metadata": {
      "needs_background": "light"
     },
     "output_type": "display_data"
    }
   ],
   "source": [
    "# mean coordination from the points\n",
    "mean_coordination = np.mean(P, axis=0)\n",
    "\n",
    "plt.scatter(mean_coordination[0], mean_coordination[1], c='r')\n",
    "plt.scatter(P[:, 0], P[:, 1], c='b')"
   ]
  },
  {
   "cell_type": "markdown",
   "id": "metallic-spray",
   "metadata": {},
   "source": [
    "# Case 2: arithimetic mean on dim1, and use volume to compute dim0\n",
    "The volume is conserved."
   ]
  },
  {
   "cell_type": "code",
   "execution_count": 14,
   "id": "saving-atlanta",
   "metadata": {},
   "outputs": [
    {
     "data": {
      "text/plain": [
       "<matplotlib.collections.PathCollection at 0x18076c9eeb0>"
      ]
     },
     "execution_count": 14,
     "metadata": {},
     "output_type": "execute_result"
    },
    {
     "data": {
      "image/png": "[encoded data removed]",
      "text/plain": [
       "<Figure size 432x288 with 1 Axes>"
      ]
     },
     "metadata": {
      "needs_background": "light"
     },
     "output_type": "display_data"
    }
   ],
   "source": [
    "dim1 = np.mean(P[:, 1])\n",
    "\n",
    "volume = (P[:, 0] * P[:, 1]).mean()\n",
    "\n",
    "dim0 = volume / dim1\n",
    "\n",
    "coord = np.array([dim0, dim1])\n",
    "\n",
    "plt.scatter(coord[0], coord[1], c='r')\n",
    "plt.scatter(P[:, 0], P[:, 1], c='b')"
   ]
  },
  {
   "cell_type": "code",
   "execution_count": null,
   "id": "abroad-muscle",
   "metadata": {},
   "outputs": [],
   "source": []
  }
 ],
 "metadata": {
  "kernelspec": {
   "display_name": "Python 3",
   "language": "python",
   "name": "python3"
  },
  "language_info": {
   "codemirror_mode": {
    "name": "ipython",
    "version": 3
   },
   "file_extension": ".py",
   "mimetype": "text/x-python",
   "name": "python",
   "nbconvert_exporter": "python",
   "pygments_lexer": "ipython3",
   "version": "3.8.8"
  }
 },
 "nbformat": 4,
 "nbformat_minor": 5
}
