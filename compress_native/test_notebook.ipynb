{
 "cells": [
  {
   "cell_type": "code",
   "execution_count": 1,
   "metadata": {},
   "outputs": [
    {
     "name": "stdout",
     "output_type": "stream",
     "text": [
      "C:\\Users\\wuyua\\Projects\\PycharmProjects\\mvg\\compress_native\\cmake-build-debug-visual-studio\n"
     ]
    }
   ],
   "source": [
    "%cd cmake-build-debug-visual-studio"
   ]
  },
  {
   "cell_type": "code",
   "execution_count": 2,
   "metadata": {
    "pycharm": {
     "name": "#%%\n"
    }
   },
   "outputs": [],
   "source": [
    "%load_ext autoreload\n",
    "%autoreload 2"
   ]
  },
  {
   "cell_type": "code",
   "execution_count": 3,
   "metadata": {
    "pycharm": {
     "name": "#%%\n"
    }
   },
   "outputs": [],
   "source": [
    "import numpy as np\n",
    "from compress import compress as compress_python\n",
    "from compress_binding import compress as compress_native"
   ]
  },
  {
   "cell_type": "code",
   "execution_count": 4,
   "metadata": {
    "pycharm": {
     "name": "#%%\n"
    }
   },
   "outputs": [],
   "source": [
    "N =10**np.random.random((100, 3))\n",
    "interval = 0.1\n",
    "ws = np.array([2, 1])\n",
    "kshape = 1.0\n",
    "log = True\n"
   ]
  },
  {
   "cell_type": "code",
   "execution_count": 5,
   "metadata": {
    "pycharm": {
     "name": "#%%\n"
    }
   },
   "outputs": [],
   "source": [
    "N_compress_python = compress_python(N, interval, ws, kshape, log)"
   ]
  },
  {
   "cell_type": "code",
   "execution_count": 6,
   "metadata": {},
   "outputs": [],
   "source": [
    "N_compress_native = compress_native(N, interval, ws, kshape, log)"
   ]
  },
  {
   "cell_type": "code",
   "execution_count": 7,
   "metadata": {
    "pycharm": {
     "name": "#%%\n"
    }
   },
   "outputs": [
    {
     "data": {
      "text/plain": [
       "(70, 3)"
      ]
     },
     "execution_count": 7,
     "metadata": {},
     "output_type": "execute_result"
    }
   ],
   "source": [
    "N_compress_python.shape"
   ]
  },
  {
   "cell_type": "code",
   "execution_count": 8,
   "metadata": {},
   "outputs": [
    {
     "data": {
      "text/plain": [
       "(32, 3)"
      ]
     },
     "execution_count": 8,
     "metadata": {},
     "output_type": "execute_result"
    }
   ],
   "source": [
    "N_compress_native.shape"
   ]
  },
  {
   "cell_type": "code",
   "execution_count": 9,
   "metadata": {},
   "outputs": [
    {
     "data": {
      "text/plain": [
       "array([[ 2.17465776e-001,  1.38870946e+002,  1.07473991e+000],\n",
       "       [ 1.14679979e-002,  2.82085423e+001,  5.29095568e+000],\n",
       "       [ 9.79313740e-001,  1.60361446e+001,  9.30710906e+000],\n",
       "       [ 1.07968638e-001,  1.47360297e+001,  1.01282469e+001],\n",
       "       [-7.55430502e-312,              nan,  2.85408434e-312],\n",
       "       [ 2.22095989e-001,  1.23634169e+001,  1.20719174e+001],\n",
       "       [-4.24399158e-313,              nan,  1.22014758e-312],\n",
       "       [ 8.77605917e-003,  2.25962128e+001,  6.60509567e+000],\n",
       "       [ 9.99599171e-002,  2.82875435e+001,  5.27617915e+000],\n",
       "       [ 1.79986976e-001,  1.17777468e+001,  1.26722157e+001],\n",
       "       [ 4.01721344e-002,  8.29788038e+001,  1.79865388e+000],\n",
       "       [-7.76650459e-312,              nan,  1.13526775e-312],\n",
       "       [-1.48539705e-311,              nan,  2.70554463e-312],\n",
       "       [ 1.14586566e-001,  3.02339249e+001,  4.93651246e+000],\n",
       "       [-8.27578358e-312,              nan,  2.83286438e-312],\n",
       "       [ 3.06506829e-002,  8.51401089e+001,  1.75299455e+000],\n",
       "       [-1.77186649e-311,              nan,  3.17238371e-312],\n",
       "       [-7.72406468e-312,              nan,  1.09282783e-312],\n",
       "       [ 3.08472790e-002,  1.53793680e+001,  9.70456959e+000],\n",
       "       [-1.12041378e-311,              nan,  1.13526775e-312],\n",
       "       [ 4.27611709e-002,  3.66709101e+001,  4.06998754e+000],\n",
       "       [-4.60473087e-312,              nan,  2.72676459e-312],\n",
       "       [ 7.18557673e-003,  9.66429771e+001,  1.54434550e+000],\n",
       "       [-8.48798316e-313,              nan,  2.79042447e-312],\n",
       "       [ 1.83146081e-001,  7.99994472e+000,  1.86563973e+001],\n",
       "       [ 1.61022804e-001,  1.39059338e+001,  1.07328389e+001],\n",
       "       [ 1.00883319e-001,  2.46334415e+001,  6.05884269e+000],\n",
       "       [-5.24132960e-312,              nan,  2.70554464e-312],\n",
       "       [-2.33419537e-313,              nan,  1.13526775e-312],\n",
       "       [ 1.50727912e-002,  7.13429569e+001,  2.09200955e+000],\n",
       "       [-8.55164304e-312,              nan,  1.09282784e-312],\n",
       "       [ 1.02156189e-001,  4.09233952e+001,  3.64706170e+000]])"
      ]
     },
     "execution_count": 9,
     "metadata": {},
     "output_type": "execute_result"
    }
   ],
   "source": [
    "N_compress_native"
   ]
  },
  {
   "cell_type": "code",
   "execution_count": null,
   "metadata": {},
   "outputs": [],
   "source": []
  }
 ],
 "metadata": {
  "kernelspec": {
   "display_name": "Python 3",
   "language": "python",
   "name": "python3"
  },
  "language_info": {
   "codemirror_mode": {
    "name": "ipython",
    "version": 3
   },
   "file_extension": ".py",
   "mimetype": "text/x-python",
   "name": "python",
   "nbconvert_exporter": "python",
   "pygments_lexer": "ipython3",
   "version": "3.8.8"
  }
 },
 "nbformat": 4,
 "nbformat_minor": 1
}
