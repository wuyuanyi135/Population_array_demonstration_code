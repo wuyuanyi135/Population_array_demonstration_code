{
 "cells": [
  {
   "cell_type": "code",
   "execution_count": 46,
   "metadata": {
    "pycharm": {
     "name": "#%%\n"
    }
   },
   "outputs": [
    {
     "name": "stdout",
     "output_type": "stream",
     "text": [
      "The autoreload extension is already loaded. To reload it, use:\n",
      "  %reload_ext autoreload\n",
      "The functionizer extension is already loaded. To reload it, use:\n",
      "  %reload_ext functionizer\n"
     ]
    }
   ],
   "source": [
    "%load_ext autoreload\n",
    "%autoreload 2\n",
    "%load_ext functionizer"
   ]
  },
  {
   "cell_type": "code",
   "execution_count": 47,
   "metadata": {
    "pycharm": {
     "name": "#%%\n"
    }
   },
   "outputs": [],
   "source": [
    "def save_fig(fig, name):\n",
    "    fig.savefig(rf\"C:\\Users\\wuyua\\OneDrive - The University of Western Ontario\\Research\\crm\\paper\\figure\\{name}.png\", bbox_inches=\"tight\")"
   ]
  },
  {
   "cell_type": "code",
   "execution_count": 192,
   "metadata": {
    "pycharm": {
     "name": "#%%\n"
    }
   },
   "outputs": [],
   "source": [
    "from solvers import breakage_pa_2d, breakage_grid_2d, DaughterGridType\n",
    "from compress import compress\n",
    "import numpy as np\n",
    "from matplotlib import pyplot as plt\n",
    "from tqdm.notebook import tqdm\n",
    "from scipy.integrate import trapz\n",
    "from scipy.stats import binned_statistic, binned_statistic_2d, norm\n",
    "import pandas as pd\n",
    "import matplotlib\n",
    "import plotly.express as px\n",
    "import plotly.graph_objects as go"
   ]
  },
  {
   "cell_type": "code",
   "execution_count": 193,
   "metadata": {
    "pycharm": {
     "name": "#%%\n"
    }
   },
   "outputs": [],
   "source": [
    "\n",
    "L_edges_0 = np.linspace(0, 10, 51)\n",
    "L_edges_1 = np.linspace(0, 10, 50)\n",
    "L_edges = (L_edges_0, L_edges_1)\n",
    "L_edge_diff_area = (L_edges_0[1] - L_edges_0[0]) * (L_edges_1[1] - L_edges_1[0])\n",
    "\n",
    "L_centers_0 = 0.5 * (L_edges_0[:-1] + L_edges_0[1:])\n",
    "L_centers_1 = 0.5 * (L_edges_1[:-1] + L_edges_1[1:])\n",
    "\n",
    "L_centers = (L_centers_0, L_centers_1)\n",
    "Lc0, Lc1 = np.meshgrid(*L_centers)\n",
    "Lc = np.stack([Lc0, Lc1], axis=-1)\n",
    "z = (Lc0 ** 2 + Lc1 ** 2) ** (1/2)\n",
    "\n",
    "n_init = norm.pdf(Lc0, loc=8, scale=3) * norm.pdf(Lc1, loc=8, scale=3)\n",
    "\n",
    "dt = 1.\n",
    "t_total = 30.\n",
    "kernel_coef = np.array([1e-7, 1e-7])\n",
    "brk_powers = np.array([2., 1.])"
   ]
  },
  {
   "cell_type": "code",
   "execution_count": 194,
   "metadata": {
    "pycharm": {
     "name": "#%%\n"
    }
   },
   "outputs": [
    {
     "data": {
      "text/plain": [
       "<matplotlib.colorbar.Colorbar at 0x1577552b910>"
      ]
     },
     "execution_count": 194,
     "metadata": {},
     "output_type": "execute_result"
    },
    {
     "data": {
      "image/png": "[encoded data removed]",
      "text/plain": [
       "<Figure size 432x288 with 2 Axes>"
      ]
     },
     "metadata": {
      "needs_background": "light"
     },
     "output_type": "display_data"
    }
   ],
   "source": [
    "plt.pcolor(n_init)\n",
    "plt.colorbar()"
   ]
  },
  {
   "cell_type": "code",
   "execution_count": 195,
   "metadata": {
    "pycharm": {
     "name": "#%%\n"
    }
   },
   "outputs": [
    {
     "data": {
      "application/vnd.jupyter.widget-view+json": {
       "model_id": "19c19f7e9e7049ab8c43d75077e8f56a",
       "version_major": 2,
       "version_minor": 0
      },
      "text/plain": [
       "  0%|          | 0/30.0 [00:00<?, ?it/s]"
      ]
     },
     "metadata": {},
     "output_type": "display_data"
    },
    {
     "name": "stderr",
     "output_type": "stream",
     "text": [
      "C:\\Users\\wuyua\\Projects\\PycharmProjects\\mvg\\solvers.py:544: NumbaExperimentalFeatureWarning: \u001b[1m\u001b[1mFirst-class function type feature is experimental\u001b[0m\u001b[0m\n",
      "  coef = kernel_fcn(vi) * kernel_coef\n"
     ]
    }
   ],
   "source": [
    "t = 0\n",
    "n = n_init.copy()\n",
    "cnt = (n * L_edge_diff_area).sum()\n",
    "vol = (n * Lc0**2 * Lc1 * L_edge_diff_area).sum()\n",
    "cnts = [cnt]\n",
    "vols = [vol]\n",
    "ts = [t]\n",
    "\n",
    "pbar = tqdm(total=t_total)\n",
    "while t < t_total:\n",
    "    B, D = breakage_grid_2d(n, L_edges, L_centers, kernel_coef, brk_powers)\n",
    "    n += (B - D) * dt\n",
    "    assert np.all(n >= 0)\n",
    "    t += dt\n",
    "    # assert np.isclose(B.sum() * 2, D.sum())\n",
    "    pbar.update(dt)\n",
    "    cnt = (n * L_edge_diff_area).sum()\n",
    "    vol = (n * Lc0**2 * Lc1 * L_edge_diff_area).sum()\n",
    "    cnts.append(cnt)\n",
    "    vols.append(vol)\n",
    "    ts.append(t)\n",
    "    # break\n",
    "pbar.close()"
   ]
  },
  {
   "cell_type": "code",
   "execution_count": 196,
   "metadata": {
    "pycharm": {
     "name": "#%%\n"
    }
   },
   "outputs": [
    {
     "data": {
      "application/vnd.jupyter.widget-view+json": {
       "model_id": "3bcc9c89da8542c9a2031be04ff6ff34",
       "version_major": 2,
       "version_minor": 0
      },
      "text/plain": [
       "  0%|          | 0/30.0 [00:00<?, ?it/s]"
      ]
     },
     "metadata": {},
     "output_type": "display_data"
    }
   ],
   "source": [
    "N_init = n_init * L_edge_diff_area\n",
    "N = np.vstack([Lc0.reshape(-1), Lc1.reshape(-1), N_init.reshape(-1)]).T\n",
    "N = N[N[:, -1] > 0*L_edge_diff_area]\n",
    "N_init = N.copy()\n",
    "pbar = tqdm(total=t_total)\n",
    "t = 0\n",
    "pa_cnts = [N[:, -1].sum()]\n",
    "pa_ts = [t]\n",
    "pa_vols = [(N[:, 0]**2 * N[:, 1] * N[:, -1]).sum()]\n",
    "while t < t_total:\n",
    "    v_original = (N[:, 0]**2 * N[:, 1] * N[:, -1]).sum()\n",
    "    Bs, D = breakage_pa_2d(N, kernel_coefs=kernel_coef, dim_powers=brk_powers, min_count=1e-15, daughter_grid_type=DaughterGridType.LINEAR)\n",
    "    B = np.vstack(Bs)\n",
    "    assert np.isclose(D.sum()*2, B[:, -1].sum()) # count rate equal\n",
    "    assert np.isclose((N[:, 0]**2 * N[:, 1] * D).sum(), (B[:, 0]**2 * B[:, 1] * B[:, -1]).sum())\n",
    "    N[:, -1] -= dt * D\n",
    "    assert np.all(N[:, -1] > 0)\n",
    "    B[:, -1] *= dt\n",
    "\n",
    "    N = np.vstack((N, B))\n",
    "    v_before_compression = (N[:, 0]**2 * N[:, 1] * N[:, -1]).sum()\n",
    "    assert np.isclose(v_before_compression, v_original)\n",
    "    N = compress(N, 1.0, brk_powers, 1, )\n",
    "    v_after_compression = (N[:, 0]**2 * N[:, 1] * N[:, -1]).sum()\n",
    "    assert np.isclose(v_before_compression, v_after_compression)\n",
    "    t += dt\n",
    "    pbar.update(dt)\n",
    "    pa_cnts.append(N[:, -1].sum())\n",
    "    pa_ts.append(t)\n",
    "    pa_vols.append(v_after_compression)\n",
    "pbar.close()"
   ]
  },
  {
   "cell_type": "code",
   "execution_count": 197,
   "metadata": {
    "pycharm": {
     "name": "#%%\n"
    }
   },
   "outputs": [
    {
     "data": {
      "text/plain": [
       "[<matplotlib.lines.Line2D at 0x157751459a0>]"
      ]
     },
     "execution_count": 197,
     "metadata": {},
     "output_type": "execute_result"
    },
    {
     "data": {
      "image/png": "[encoded data removed]",
      "text/plain": [
       "<Figure size 432x288 with 1 Axes>"
      ]
     },
     "metadata": {
      "needs_background": "light"
     },
     "output_type": "display_data"
    }
   ],
   "source": [
    "fig, ax = plt.subplots()\n",
    "ax.plot(pa_ts, pa_cnts)\n",
    "ax.plot(ts, cnts)"
   ]
  },
  {
   "cell_type": "code",
   "execution_count": 189,
   "metadata": {
    "pycharm": {
     "name": "#%%\n"
    }
   },
   "outputs": [
    {
     "data": {
      "image/png": "[encoded data removed]",
      "text/plain": [
       "<Figure size 432x288 with 1 Axes>"
      ]
     },
     "metadata": {
      "needs_background": "light"
     },
     "output_type": "display_data"
    }
   ],
   "source": [
    "fig, ax = plt.subplots()\n",
    "ax.plot(pa_ts, pa_vols)\n",
    "ax.plot(ts, vols)\n",
    "ax.ticklabel_format(style=\"plain\", useOffset=False)"
   ]
  },
  {
   "cell_type": "code",
   "execution_count": null,
   "metadata": {
    "pycharm": {
     "name": "#%%\n"
    }
   },
   "outputs": [],
   "source": []
  }
 ],
 "metadata": {
  "kernelspec": {
   "display_name": "Python 3",
   "language": "python",
   "name": "python3"
  },
  "language_info": {
   "codemirror_mode": {
    "name": "ipython",
    "version": 3
   },
   "file_extension": ".py",
   "mimetype": "text/x-python",
   "name": "python",
   "nbconvert_exporter": "python",
   "pygments_lexer": "ipython3",
   "version": "3.8.8"
  }
 },
 "nbformat": 4,
 "nbformat_minor": 1
}
